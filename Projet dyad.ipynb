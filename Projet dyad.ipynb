{
 "cells": [
  {
   "cell_type": "code",
   "execution_count": 86,
   "metadata": {},
   "outputs": [],
   "source": [
    "import numpy as np\n",
    "import scipy.optimize\n",
    "import matplotlib.pyplot as plt\n",
    "from itertools import chain\n",
    "from functools import partial\n",
    "from mpl_toolkits.axes_grid1 import make_axes_locatable\n",
    "import matplotlib.cm\n",
    "%matplotlib inline"
   ]
  },
  {
   "cell_type": "code",
   "execution_count": 87,
   "metadata": {},
   "outputs": [],
   "source": [
    "def stoch_round(x):\n",
    "    if np.random.rand() > x - int(x):\n",
    "        return int(x)\n",
    "    else:\n",
    "        return int(x)+1"
   ]
  },
  {
   "cell_type": "code",
   "execution_count": 88,
   "metadata": {},
   "outputs": [],
   "source": [
    "p_common = {\"b2\":0, 'd1':1, 'd2':1, 'K1':1, 'K2':1, 'mu':0.1, 'V':100, 's':3, 'mut':0.2, 'sigma': 0.1}\n",
    "p_neutral = {\"a1\": 1, \"b1\": 0, \"a2\":1, **p_common}\n",
    "p_strong = {\"a1\": 1, \"b1\": 1, \"a2\":2, **p_common}\n",
    "p_weak = {\"a1\": 2, \"b1\": -1, \"a2\":1, **p_common}"
   ]
  },
  {
   "cell_type": "code",
   "execution_count": 101,
   "metadata": {},
   "outputs": [],
   "source": [
    "def compat(a, delta_u, s): # compatibilités de quelqu'un de trait a avec quelqu'un de différence delta_u\n",
    "    a = a * 2 - 1 # on met dans [-1, 1]\n",
    "    if a >= 0:\n",
    "        return np.exp(-s*a*delta_u*delta_u) # voir si on met un facteur devant le a\n",
    "    else:\n",
    "        return (np.exp(s*a*(delta_u+1)**2) + np.exp(s*a*(delta_u-1)**2))/2"
   ]
  },
  {
   "cell_type": "code",
   "execution_count": 102,
   "metadata": {},
   "outputs": [],
   "source": [
    "def get_birth_rates(state, a1, a2, b1, b2, d1, d2, K1, K2, V, **reste):\n",
    "    trait_step = state.shape[0]\n",
    "    u_vals = np.linspace(0, 1, trait_step) # Liste des valeurs du trait u.\n",
    "    N_per_u = np.sum(state, axis=1) / V # Nombre d'individus avec chaque valeur de u (pour calculer F1 et F2).\n",
    "    \n",
    "    A1_per_u = a1 + b1*u_vals # Valeur de A1 pour chaque valeur de u.    \n",
    "    F1 = (d1 * K1) / (d1 * K1 + np.dot(u_vals, np.multiply(N_per_u, A1_per_u)))\n",
    "\n",
    "    A2_per_u = a2 + b2*u_vals # Valeur de A2 pour chaque valeur de u.\n",
    "    F2 = (d2 * K2) / (d2 * K2 + np.dot(1 - u_vals, np.multiply(N_per_u, A2_per_u)))\n",
    "    \n",
    "    beta_per_u = np.multiply(u_vals, A1_per_u) * F1 + np.multiply(1-u_vals, A2_per_u) * F2\n",
    "\n",
    "    return beta_per_u"
   ]
  },
  {
   "cell_type": "code",
   "execution_count": 103,
   "metadata": {},
   "outputs": [],
   "source": [
    "def stochastic_simul(Tmax, nb_steps, state, birth_rates, **params):\n",
    "    \"\"\" Simulation stochastique avec l'algorithme de Gillespie.\n",
    "    \n",
    "    Paramètres :\n",
    "        Tmax : temps final de la simulation.\n",
    "        nb_steps : nombre d'étapes.\n",
    "        state : np.ndarray de forme (trait_step, trait_step) représentant le nombre d'individus\n",
    "                pour chaque couple (u, a) (u ligne, a colonne)\n",
    "        get_birth_rates : fonction retournant le birth rate pour chaque u en fonction de l'état\n",
    "        mu : taux de mortalité (indépendant des traits)\n",
    "        \n",
    "    \"\"\"\n",
    "    \n",
    "    trait_step = state.shape[0] # combien de valeurs du trait on utilise\n",
    "    dt = Tmax/nb_steps\n",
    "    \n",
    "    u_vals = np.linspace(0, 1, trait_step) # Liste des valeurs du trait u.\n",
    "    a_vals = np.linspace(0, 1, trait_step) # Liste des valeurs du trait a.\n",
    "\n",
    "    trajectory = np.zeros((nb_steps, trait_step, trait_step), dtype=int) # On sauvegarde l'état initial.\n",
    "    \n",
    "    for t in range(nb_steps):\n",
    "        if t % 100 == 0:\n",
    "            print('Étape {}, {:.1%}'.format(t, t/nb_steps))\n",
    "            \n",
    "#        if t % 500 == 0:\n",
    "#            plt.imshow(np.sum(trajectory, axis = 2).transpose(), aspect='auto') # on somme sur a pour avoir (u, t)\n",
    "#            plt.show()\n",
    "            \n",
    "        # on calcule tous les taux\n",
    "        birth_rate_per_u = birth_rates(state)\n",
    "        \n",
    "        new_state = np.zeros((trait_step, trait_step))\n",
    "        \n",
    "        for u_i in range(trait_step):\n",
    "            for a_i in range(trait_step):\n",
    "                if state[u_i][a_i] > 0:\n",
    "                    nb_repros = np.random.poisson(state[u_i][a_i]*birth_rate_per_u[u_i]*dt)\n",
    "                    nb_morts = np.random.poisson(state[u_i][a_i]*params[\"mu\"]*dt)\n",
    "                    \n",
    "                    for i in range(nb_repros):\n",
    "                        # on trouve le nouveau partenaire avec proba N(u_i, a_i) * beta(u_i, a_i)\n",
    "                        probas = (state.transpose() * birth_rate_per_u).transpose()\n",
    "                        masse_totale = np.sum(probas)\n",
    "                        \n",
    "                        # u_part et a_part : traits du partenaire sélectionné\n",
    "                        cases_non_vides = [(u, a) for u in range(trait_step) for a in range(trait_step)\n",
    "                                           if probas[u, a] > 0]\n",
    "                        trouve = False\n",
    "                        u_part = -1\n",
    "                        a_part = -1\n",
    "                        while not trouve:\n",
    "                            r = np.random.random()\n",
    "                            pos = np.random.randint(0, len(cases_non_vides))\n",
    "                            u_part, a_part = cases_non_vides[pos]\n",
    "                            if r*masse_totale < probas[u_part][a_part]:\n",
    "                                trouve = True\n",
    "                        \n",
    "                        delta_u = u_vals[u_i] - u_vals[u_part]\n",
    "                        proba_repro = compat(a_vals[a_i], delta_u, params[\"s\"]) * compat(a_vals[a_part], delta_u, params[\"s\"])\n",
    "                        \n",
    "                        if np.random.binomial(1, proba_repro):\n",
    "                            # héritage des traits des parents\n",
    "                            u_min = min(u_i, u_part)\n",
    "                            u_max = max(u_i, u_part)\n",
    "                            nouv_u = np.random.randint(u_min, u_max+1) # au lieu de stoch_round((u_i + u_part)/2)\n",
    "                            a_min = min(a_i, a_part)\n",
    "                            a_max = max(a_i, a_part)\n",
    "                            nouv_a = np.random.randint(a_min, a_max+1)\n",
    "                            \n",
    "                            if np.random.random() < params[\"mut\"]:\n",
    "                                mut_u, mut_a = np.random.normal([0, 0], [params[\"sigma\"], params[\"sigma\"]])\n",
    "                                nouv_u = stoch_round(nouv_u + mut_u * trait_step)\n",
    "                                nouv_a = stoch_round(nouv_a + mut_a * trait_step)\n",
    "\n",
    "                            nouv_u = min(max(nouv_u, 0), trait_step-1)\n",
    "                            nouv_a = min(max(nouv_a, 0), trait_step-1)\n",
    "\n",
    "                            new_state[nouv_u][nouv_a] += 1\n",
    "                        \n",
    "                    new_state[u_i][a_i] = max(state[u_i][a_i] + new_state[u_i][a_i] - nb_morts, 0)\n",
    "                        \n",
    "        trajectory[t, :, :] = state[:, :]\n",
    "        state = new_state\n",
    "        \n",
    "    return trajectory"
   ]
  },
  {
   "cell_type": "code",
   "execution_count": 104,
   "metadata": {},
   "outputs": [],
   "source": [
    "trait_step = 40\n",
    "state = np.zeros((trait_step, trait_step))\n",
    "#state[0, trait_step-1] = 100\n",
    "#state[trait_step-1, trait_step-1] = 100\n",
    "state[0, trait_step-1] = 200"
   ]
  },
  {
   "cell_type": "code",
   "execution_count": null,
   "metadata": {},
   "outputs": [
    {
     "name": "stdout",
     "output_type": "stream",
     "text": [
      "Étape 0, 0.0%\n",
      "Étape 100, 1.0%\n",
      "Étape 200, 2.0%\n",
      "Étape 300, 3.0%\n",
      "Étape 400, 4.0%\n",
      "Étape 500, 5.0%\n",
      "Étape 600, 6.0%\n",
      "Étape 700, 7.0%\n",
      "Étape 800, 8.0%\n",
      "Étape 900, 9.0%\n",
      "Étape 1000, 10.0%\n",
      "Étape 1100, 11.0%\n",
      "Étape 1200, 12.0%\n",
      "Étape 1300, 13.0%\n",
      "Étape 1400, 14.0%\n",
      "Étape 1500, 15.0%\n",
      "Étape 1600, 16.0%\n",
      "Étape 1700, 17.0%\n",
      "Étape 1800, 18.0%\n",
      "Étape 1900, 19.0%\n",
      "Étape 2000, 20.0%\n",
      "Étape 2100, 21.0%\n",
      "Étape 2200, 22.0%\n",
      "Étape 2300, 23.0%\n",
      "Étape 2400, 24.0%\n",
      "Étape 2500, 25.0%\n",
      "Étape 2600, 26.0%\n",
      "Étape 2700, 27.0%\n",
      "Étape 2800, 28.0%\n",
      "Étape 2900, 29.0%\n",
      "Étape 3000, 30.0%\n",
      "Étape 3100, 31.0%\n",
      "Étape 3200, 32.0%\n",
      "Étape 3300, 33.0%\n",
      "Étape 3400, 34.0%\n",
      "Étape 3500, 35.0%\n",
      "Étape 3600, 36.0%\n",
      "Étape 3700, 37.0%\n",
      "Étape 3800, 38.0%\n",
      "Étape 3900, 39.0%\n",
      "Étape 4000, 40.0%\n",
      "Étape 4100, 41.0%\n",
      "Étape 4200, 42.0%\n",
      "Étape 4300, 43.0%\n",
      "Étape 4400, 44.0%\n",
      "Étape 4500, 45.0%\n",
      "Étape 4600, 46.0%\n",
      "Étape 4700, 47.0%\n",
      "Étape 4800, 48.0%\n"
     ]
    }
   ],
   "source": [
    "traj = stochastic_simul(1000, 10000, state, partial(get_birth_rates, **p_strong), **p_strong)"
   ]
  },
  {
   "cell_type": "code",
   "execution_count": null,
   "metadata": {},
   "outputs": [],
   "source": [
    "def plot_trait(trait, nom):\n",
    "    trait = np.flipud(trait) # on remet le 0 en bas\n",
    "    nb_gens = trait.shape[1]\n",
    "    plt.figure(figsize=(9, 6))\n",
    "    plt.imshow(trait, extent=[0, nb_gens, 0, 1], aspect='auto')\n",
    "    plt.xlabel('Génération')\n",
    "    plt.ylabel('Trait ' + nom)"
   ]
  },
  {
   "cell_type": "code",
   "execution_count": null,
   "metadata": {},
   "outputs": [],
   "source": [
    "plot_trait(np.sum(traj, axis = 2).transpose(), 'u') # on somme sur a pour avoir (u, t)\n",
    "plot_trait(np.sum(traj, axis = 1).transpose(), \"a\") # on somme sur u pour avoir (a, t)"
   ]
  }
 ],
 "metadata": {
  "kernelspec": {
   "display_name": "Python 3",
   "language": "python",
   "name": "python3"
  },
  "language_info": {
   "codemirror_mode": {
    "name": "ipython",
    "version": 3
   },
   "file_extension": ".py",
   "mimetype": "text/x-python",
   "name": "python",
   "nbconvert_exporter": "python",
   "pygments_lexer": "ipython3",
   "version": "3.6.2"
  }
 },
 "nbformat": 4,
 "nbformat_minor": 2
}
