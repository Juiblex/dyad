{
 "cells": [
  {
   "cell_type": "code",
   "execution_count": 1,
   "metadata": {},
   "outputs": [],
   "source": [
    "import numpy as np\n",
    "import scipy.optimize\n",
    "import matplotlib.pyplot as plt\n",
    "from itertools import chain\n",
    "from functools import partial\n",
    "from mpl_toolkits.axes_grid1 import make_axes_locatable\n",
    "import matplotlib.cm\n",
    "%matplotlib inline"
   ]
  },
  {
   "cell_type": "code",
   "execution_count": 74,
   "metadata": {},
   "outputs": [],
   "source": [
    "p_common = {\"b2\":0, 'd1':1,'d2':1,'K1':1,'K2':1,'mu':0.1}\n",
    "p_neutral = {\"a1\": 1, \"b1\": 0, \"a2\":1, **p_common}\n",
    "p_strong = {\"a1\": 1, \"b1\": 1, \"a2\":2, **p_common}\n",
    "p_weak = {\"a1\": 2, \"b1\": -1, \"a2\":1, **p_common}"
   ]
  },
  {
   "cell_type": "code",
   "execution_count": 75,
   "metadata": {},
   "outputs": [],
   "source": [
    "def get_birth_rates(state, a1, a2, b1, b2, d1, d2, K1, K2, mu):\n",
    "    trait_step = state.shape[0]\n",
    "    u_vals = np.linspace(0, 1, trait_step) # Liste des valeurs du trait u.\n",
    "    N_per_u = np.sum(state, axis=1) # Nombre d'individus avec chaque valeur de u (pour calculer F1 et F2).\n",
    "    \n",
    "    A1_per_u = [a1 + b1*u for u in u_vals] # Valeur de A1 pour chaque valeur de u.\n",
    "    F1 = (d1 * K1) / (d1 * K1 + np.sum([u * N * A1 for u, N, A1 in zip(u_vals, N_per_u, A1_per_u)]))\n",
    "    \n",
    "    A2_per_u = [a2 + b2*u for u in u_vals] # Valeur de A2 pour chaque valeur de u.\n",
    "    F2 = (d2 * K2) / (d2 * K2 + np.sum([(1-u) * N * A2 for u, N, A2 in zip(u_vals, N_per_u, A2_per_u)]))\n",
    "    \n",
    "    beta_per_u = [u * A1 * F1 + (1-u) * A2 * F2 for u, A1, A2 in zip(u_vals, A1_per_u, A2_per_u)]\n",
    "    \n",
    "    return beta_per_u"
   ]
  },
  {
   "cell_type": "code",
   "execution_count": 76,
   "metadata": {},
   "outputs": [],
   "source": [
    "state = np.array([[1, 2, 3], [4, 5, 6], [7, 8, 9]])"
   ]
  },
  {
   "cell_type": "code",
   "execution_count": 77,
   "metadata": {},
   "outputs": [
    {
     "data": {
      "text/plain": [
       "[0.026315789473684209,\n",
       " 0.02442727362496297,\n",
       " 0.024414930384121653,\n",
       " 0.026278759751160265,\n",
       " 0.030018761726078799]"
      ]
     },
     "execution_count": 77,
     "metadata": {},
     "output_type": "execute_result"
    }
   ],
   "source": [
    "get_birth_rates(np.diag(np.ones(5)*15), **p_strong)"
   ]
  },
  {
   "cell_type": "code",
   "execution_count": 78,
   "metadata": {},
   "outputs": [
    {
     "data": {
      "text/plain": [
       "array([[ 15.,   0.,   0.],\n",
       "       [  0.,  15.,   0.],\n",
       "       [  0.,   0.,  15.]])"
      ]
     },
     "execution_count": 78,
     "metadata": {},
     "output_type": "execute_result"
    }
   ],
   "source": [
    "np.diag(np.ones(3)*15)"
   ]
  },
  {
   "cell_type": "code",
   "execution_count": 81,
   "metadata": {},
   "outputs": [],
   "source": [
    "def stochastic_simul(Tmax, nb_steps, state, birth_rates, mu, mutation_rate):\n",
    "    \"\"\" Simulation stochastique avec l'algorithme de Gillespie.\n",
    "    \n",
    "    Paramètres :\n",
    "        Tmax : temps final de la simulation.\n",
    "        nb_steps : nombre d'étapes.\n",
    "        state : np.ndarray de forme (trait_step, trait_step) représentant le nombre d'individus\n",
    "                pour chaque couple (u, a) (u ligne, a colonne)\n",
    "        get_birth_rates : fonction retournant le birth rate pour chaque u en fonction de l'état\n",
    "        mu : taux de mortalité (indépendant des traits)\n",
    "        \n",
    "    \"\"\"\n",
    "    \n",
    "    max_iter = 10000 # pour arrêter si on atteint pas Tmax\n",
    "    \n",
    "    trait_step = state.shape[0] # combien de valeurs du trait on utilise\n",
    "    dt = Tmax/nb_steps\n",
    "    \n",
    "    trajectory = np.copy(state) # On sauvegarde l'état initial.\n",
    "    \n",
    "    t = 0 # temps courant\n",
    "    while t < Tmax:\n",
    "        # on calcule tous les taux\n",
    "        birth_rate_per_u = birth_rates(state)\n",
    "        \n",
    "        new_state = np.zeros((trait_step, trait_step))\n",
    "        \n",
    "        for u_i in range(trait_step):\n",
    "            for a_i in range(trait_step):\n",
    "                if state[u_i][a_i] > 0:\n",
    "                    nb_repros = np.random.poisson(state[u_i][a_i]*np.exp(birth_rate_per_u[u_i]*dt))\n",
    "                    nb_morts = np.random.poisson(state[u_i][a_i]*np.exp(mu*dt))\n",
    "                    # on oublie l'affinité pour l'instant\n",
    "                    \n",
    "                    for i in range(nb_repros):\n",
    "                        mute_u = np.random.binomial(1, mutation_rate)\n",
    "                        mute_a = np.random.binomial(1, mutation_rate)\n",
    "                        augmente_u = 0\n",
    "                        augmente_a = 0\n",
    "                        if mute_u:\n",
    "                            augmente_u = np.random.binomial(1, 0.5) * 2 - 1\n",
    "                        if mute_a:\n",
    "                            augmente_a = np.random.binomial(1, 0.5) * 2 - 1\n",
    "                        \n",
    "                        nouv_u = min(max(u_i + augmente_u, 0), trait_step-1)\n",
    "                        nouv_a = min(max(a_i + augmente_a, 0), trait_step-1)\n",
    "                        \n",
    "                        new_state[nouv_u][nouv_a] += 1\n",
    "                        \n",
    "                    new_state[u_i][a_i] = max(state[u_i][a_i] + new_state[u_i][a_i] - nb_morts, 0)\n",
    "                        \n",
    "        np.concatenate(state)\n",
    "        state = new_state\n",
    "        t += dt\n",
    "        \n",
    "    return trajectory"
   ]
  },
  {
   "cell_type": "code",
   "execution_count": 82,
   "metadata": {},
   "outputs": [
    {
     "ename": "AttributeError",
     "evalue": "'numpy.ndarray' object has no attribute 'concatenate'",
     "output_type": "error",
     "traceback": [
      "\u001b[0;31m---------------------------------------------------------------------------\u001b[0m",
      "\u001b[0;31mAttributeError\u001b[0m                            Traceback (most recent call last)",
      "\u001b[0;32m<ipython-input-82-c495215cf703>\u001b[0m in \u001b[0;36m<module>\u001b[0;34m()\u001b[0m\n\u001b[0;32m----> 1\u001b[0;31m \u001b[0mstochastic_simul\u001b[0m\u001b[0;34m(\u001b[0m\u001b[0;36m500\u001b[0m\u001b[0;34m,\u001b[0m \u001b[0;36m100\u001b[0m\u001b[0;34m,\u001b[0m \u001b[0mstate\u001b[0m\u001b[0;34m,\u001b[0m \u001b[0mpartial\u001b[0m\u001b[0;34m(\u001b[0m\u001b[0mget_birth_rates\u001b[0m\u001b[0;34m,\u001b[0m \u001b[0;34m**\u001b[0m\u001b[0mp_strong\u001b[0m\u001b[0;34m)\u001b[0m\u001b[0;34m,\u001b[0m \u001b[0mp_strong\u001b[0m\u001b[0;34m[\u001b[0m\u001b[0;34m\"mu\"\u001b[0m\u001b[0;34m]\u001b[0m\u001b[0;34m,\u001b[0m \u001b[0;36m0.1\u001b[0m\u001b[0;34m)\u001b[0m\u001b[0;34m\u001b[0m\u001b[0m\n\u001b[0m",
      "\u001b[0;32m<ipython-input-81-db2860006ab8>\u001b[0m in \u001b[0;36mstochastic_simul\u001b[0;34m(Tmax, nb_steps, state, birth_rates, mu, mutation_rate)\u001b[0m\n\u001b[1;32m     50\u001b[0m                     \u001b[0mnew_state\u001b[0m\u001b[0;34m[\u001b[0m\u001b[0mu_i\u001b[0m\u001b[0;34m]\u001b[0m\u001b[0;34m[\u001b[0m\u001b[0ma_i\u001b[0m\u001b[0;34m]\u001b[0m \u001b[0;34m=\u001b[0m \u001b[0mmax\u001b[0m\u001b[0;34m(\u001b[0m\u001b[0mstate\u001b[0m\u001b[0;34m[\u001b[0m\u001b[0mu_i\u001b[0m\u001b[0;34m]\u001b[0m\u001b[0;34m[\u001b[0m\u001b[0ma_i\u001b[0m\u001b[0;34m]\u001b[0m \u001b[0;34m+\u001b[0m \u001b[0mnew_state\u001b[0m\u001b[0;34m[\u001b[0m\u001b[0mu_i\u001b[0m\u001b[0;34m]\u001b[0m\u001b[0;34m[\u001b[0m\u001b[0ma_i\u001b[0m\u001b[0;34m]\u001b[0m \u001b[0;34m-\u001b[0m \u001b[0mnb_morts\u001b[0m\u001b[0;34m,\u001b[0m \u001b[0;36m0\u001b[0m\u001b[0;34m)\u001b[0m\u001b[0;34m\u001b[0m\u001b[0m\n\u001b[1;32m     51\u001b[0m \u001b[0;34m\u001b[0m\u001b[0m\n\u001b[0;32m---> 52\u001b[0;31m         \u001b[0mtrajectory\u001b[0m\u001b[0;34m.\u001b[0m\u001b[0mconcatenate\u001b[0m\u001b[0;34m(\u001b[0m\u001b[0mstate\u001b[0m\u001b[0;34m)\u001b[0m\u001b[0;34m\u001b[0m\u001b[0m\n\u001b[0m\u001b[1;32m     53\u001b[0m         \u001b[0mstate\u001b[0m \u001b[0;34m=\u001b[0m \u001b[0mnew_state\u001b[0m\u001b[0;34m\u001b[0m\u001b[0m\n\u001b[1;32m     54\u001b[0m         \u001b[0mt\u001b[0m \u001b[0;34m+=\u001b[0m \u001b[0mdt\u001b[0m\u001b[0;34m\u001b[0m\u001b[0m\n",
      "\u001b[0;31mAttributeError\u001b[0m: 'numpy.ndarray' object has no attribute 'concatenate'"
     ]
    }
   ],
   "source": [
    "stochastic_simul(500, 100, state, partial(get_birth_rates, **p_strong), p_strong[\"mu\"], 0.1)"
   ]
  },
  {
   "cell_type": "code",
   "execution_count": 55,
   "metadata": {},
   "outputs": [],
   "source": [
    "truc = np.array([[1, 2], [3, 4]])"
   ]
  },
  {
   "cell_type": "code",
   "execution_count": 60,
   "metadata": {},
   "outputs": [
    {
     "data": {
      "text/plain": [
       "array([[ 0.,  0.,  0.,  0.,  0.],\n",
       "       [ 0.,  0.,  0.,  0.,  0.],\n",
       "       [ 0.,  0.,  0.,  0.,  0.],\n",
       "       [ 0.,  0.,  0.,  0.,  0.],\n",
       "       [ 0.,  0.,  0.,  0.,  0.]])"
      ]
     },
     "execution_count": 60,
     "metadata": {},
     "output_type": "execute_result"
    }
   ],
   "source": [
    "np.zeros((5, 5))"
   ]
  },
  {
   "cell_type": "code",
   "execution_count": null,
   "metadata": {},
   "outputs": [],
   "source": []
  }
 ],
 "metadata": {
  "kernelspec": {
   "display_name": "Python 3",
   "language": "python",
   "name": "python3"
  },
  "language_info": {
   "codemirror_mode": {
    "name": "ipython",
    "version": 3
   },
   "file_extension": ".py",
   "mimetype": "text/x-python",
   "name": "python",
   "nbconvert_exporter": "python",
   "pygments_lexer": "ipython3",
   "version": "3.6.2"
  }
 },
 "nbformat": 4,
 "nbformat_minor": 2
}
