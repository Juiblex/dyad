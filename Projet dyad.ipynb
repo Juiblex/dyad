{
 "cells": [
  {
   "cell_type": "code",
   "execution_count": 1,
   "metadata": {},
   "outputs": [],
   "source": [
    "import numpy as np\n",
    "import scipy.optimize\n",
    "import matplotlib.pyplot as plt\n",
    "from itertools import chain\n",
    "from functools import partial\n",
    "from mpl_toolkits.axes_grid1 import make_axes_locatable\n",
    "import matplotlib.cm\n",
    "%matplotlib inline"
   ]
  },
  {
   "cell_type": "code",
   "execution_count": 2,
   "metadata": {},
   "outputs": [],
   "source": [
    "p_common = {\"b2\":0, 'd1':1,'d2':1,'K1':1,'K2':1,'mu':0.1, 'V':100}\n",
    "p_neutral = {\"a1\": 1, \"b1\": 0, \"a2\":1, **p_common}\n",
    "p_strong = {\"a1\": 1, \"b1\": 1, \"a2\":2, **p_common}\n",
    "p_weak = {\"a1\": 2, \"b1\": -1, \"a2\":1, **p_common}"
   ]
  },
  {
   "cell_type": "code",
   "execution_count": 3,
   "metadata": {},
   "outputs": [],
   "source": [
    "def compat(a, delta_u): # compatibilités de quelqu'un de trait a avec quelqu'un de différence delta_u\n",
    "    a = a * 2 - 1 # on met dans [-1, 1]\n",
    "    if a >= 0:\n",
    "        return np.exp(-a*delta_u*delta_u) # voir si on met un facteur devant le a\n",
    "    else:\n",
    "        return 1-np.exp(a*delta_u*delta_u) + np.exp(-1)"
   ]
  },
  {
   "cell_type": "code",
   "execution_count": 83,
   "metadata": {},
   "outputs": [],
   "source": [
    "def stoch_round(x):\n",
    "    if np.random.rand() > x - int(x):\n",
    "        return int(x)\n",
    "    else:\n",
    "        return int(x)+1"
   ]
  },
  {
   "cell_type": "code",
   "execution_count": 86,
   "metadata": {},
   "outputs": [
    {
     "data": {
      "text/plain": [
       "0.36787944117144233"
      ]
     },
     "execution_count": 86,
     "metadata": {},
     "output_type": "execute_result"
    }
   ],
   "source": [
    "compat(0, 0)"
   ]
  },
  {
   "cell_type": "code",
   "execution_count": 146,
   "metadata": {},
   "outputs": [],
   "source": [
    "def get_birth_rates(state, a1, a2, b1, b2, d1, d2, K1, K2, mu, V):\n",
    "    trait_step = state.shape[0]\n",
    "    u_vals = np.linspace(0, 1, trait_step) # Liste des valeurs du trait u.\n",
    "    N_per_u = np.sum(state, axis=1) / V # Nombre d'individus avec chaque valeur de u (pour calculer F1 et F2).\n",
    "    \n",
    "    A1_per_u = a1 + b1*u_vals # Valeur de A1 pour chaque valeur de u.    \n",
    "    F1 = (d1 * K1) / (d1 * K1 + np.dot(u_vals, np.multiply(N_per_u, A1_per_u)))\n",
    "\n",
    "    A2_per_u = a2 + b2*u_vals # Valeur de A2 pour chaque valeur de u.\n",
    "    F2 = (d2 * K2) / (d2 * K2 + np.dot(1 - u_vals, np.multiply(N_per_u, A2_per_u)))\n",
    "    \n",
    "    beta_per_u = np.multiply(u_vals, A1_per_u) * F1 + np.multiply(1-u_vals, A2_per_u) * F2\n",
    "    \n",
    "    #print(beta_per_u)\n",
    "    \n",
    "    return beta_per_u"
   ]
  },
  {
   "cell_type": "code",
   "execution_count": 176,
   "metadata": {},
   "outputs": [],
   "source": [
    "def stochastic_simul(Tmax, nb_steps, state, birth_rates, mu, mutation_rate):\n",
    "    \"\"\" Simulation stochastique avec l'algorithme de Gillespie.\n",
    "    \n",
    "    Paramètres :\n",
    "        Tmax : temps final de la simulation.\n",
    "        nb_steps : nombre d'étapes.\n",
    "        state : np.ndarray de forme (trait_step, trait_step) représentant le nombre d'individus\n",
    "                pour chaque couple (u, a) (u ligne, a colonne)\n",
    "        get_birth_rates : fonction retournant le birth rate pour chaque u en fonction de l'état\n",
    "        mu : taux de mortalité (indépendant des traits)\n",
    "        \n",
    "    \"\"\"\n",
    "    \n",
    "    trait_step = state.shape[0] # combien de valeurs du trait on utilise\n",
    "    dt = Tmax/nb_steps\n",
    "    \n",
    "    u_vals = np.linspace(0, 1, trait_step) # Liste des valeurs du trait u.\n",
    "    a_vals = np.linspace(0, 1, trait_step) # Liste des valeurs du trait a.\n",
    "\n",
    "    trajectory = np.zeros((nb_steps, trait_step, trait_step), dtype=int) # On sauvegarde l'état initial.\n",
    "    \n",
    "    for t in range(nb_steps):\n",
    "        if t % 100 == 0:\n",
    "            print('Étape {}, {:.1%}'.format(t, t/nb_steps))\n",
    "        # on calcule tous les taux\n",
    "        birth_rate_per_u = birth_rates(state)\n",
    "        \n",
    "        new_state = np.zeros((trait_step, trait_step))\n",
    "        \n",
    "        for u_i in range(trait_step):\n",
    "            for a_i in range(trait_step):\n",
    "                if state[u_i][a_i] > 0:\n",
    "                    nb_repros = np.random.poisson(state[u_i][a_i]*birth_rate_per_u[u_i]*dt)\n",
    "                    nb_morts = np.random.poisson(state[u_i][a_i]*mu*dt)\n",
    "                    \n",
    "                    for i in range(nb_repros):\n",
    "                        # on trouve le nouveau partenaire avec proba N(u_i, a_i) * beta(u_i, a_i)\n",
    "                        probas = (state.transpose() * birth_rate_per_u).transpose()\n",
    "                        masse_totale = np.sum(probas)\n",
    "                        \n",
    "                        # u_part et a_part : traits du partenaire sélectionné\n",
    "                        cases_non_vides = [(u, a) for u in range(trait_step) for a in range(trait_step)\n",
    "                                           if probas[u, a] > 0]\n",
    "                        trouve = False\n",
    "                        u_part = -1\n",
    "                        a_part = -1\n",
    "                        while not trouve:\n",
    "                            r = np.random.random()\n",
    "                            pos = np.random.randint(0, len(cases_non_vides))\n",
    "                            u_part, a_part = cases_non_vides[pos]\n",
    "                            if r*masse_totale < probas[u_part][a_part]:\n",
    "                                trouve = True\n",
    "                        \n",
    "                        delta_u = u_vals[u_i] - u_vals[u_part]\n",
    "                        proba_repro = compat(a_vals[a_i], delta_u) * compat(a_vals[a_part], delta_u)\n",
    "                        \n",
    "                        if np.random.binomial(1, proba_repro):\n",
    "                            # héritage des traits des parents\n",
    "                            if np.random.random() < mutation_rate:\n",
    "                                mut_u, mut_a = np.random.normal([0, 0], [0.1, 0.1])\n",
    "                                nouv_u = stoch_round((u_i + u_part)/2 + mut_u * trait_step)\n",
    "                                nouv_a = stoch_round((a_i + a_part)/2 + mut_a * trait_step)\n",
    "                            else:\n",
    "                                nouv_u = stoch_round((u_i + u_part)/2)\n",
    "                                nouv_a = stoch_round((a_i + a_part)/2)\n",
    "\n",
    "                            nouv_u = min(max(nouv_u, 0), trait_step-1)\n",
    "                            nouv_a = min(max(nouv_a, 0), trait_step-1)\n",
    "\n",
    "                            new_state[nouv_u][nouv_a] += 1\n",
    "                        \n",
    "                    new_state[u_i][a_i] = max(state[u_i][a_i] + new_state[u_i][a_i] - nb_morts, 0)\n",
    "                        \n",
    "        trajectory[t, :, :] = state[:, :]\n",
    "        state = new_state\n",
    "        \n",
    "    return trajectory"
   ]
  },
  {
   "cell_type": "code",
   "execution_count": 181,
   "metadata": {},
   "outputs": [],
   "source": [
    "trait_step = 40\n",
    "state = np.zeros((trait_step, trait_step))\n",
    "state[trait_step//2, trait_step//2] = 200"
   ]
  },
  {
   "cell_type": "code",
   "execution_count": null,
   "metadata": {},
   "outputs": [
    {
     "name": "stdout",
     "output_type": "stream",
     "text": [
      "Étape 0, 0.0%\n",
      "Étape 100, 2.0%\n",
      "Étape 200, 4.0%\n",
      "Étape 300, 6.0%\n",
      "Étape 400, 8.0%\n",
      "Étape 500, 10.0%\n",
      "Étape 600, 12.0%\n",
      "Étape 700, 14.0%\n",
      "Étape 800, 16.0%\n",
      "Étape 900, 18.0%\n",
      "Étape 1000, 20.0%\n",
      "Étape 1100, 22.0%\n",
      "Étape 1200, 24.0%\n",
      "Étape 1300, 26.0%\n",
      "Étape 1400, 28.0%\n",
      "Étape 1500, 30.0%\n",
      "Étape 1600, 32.0%\n"
     ]
    }
   ],
   "source": [
    "traj = stochastic_simul(500, 5000, state, partial(get_birth_rates, **p_strong), p_strong[\"mu\"], 0.2)"
   ]
  },
  {
   "cell_type": "code",
   "execution_count": null,
   "metadata": {},
   "outputs": [],
   "source": [
    "plt.imshow(np.sum(traj, axis = 2).transpose(), aspect='auto') # on somme sur a pour avoir (u, t)"
   ]
  },
  {
   "cell_type": "code",
   "execution_count": null,
   "metadata": {},
   "outputs": [],
   "source": [
    "plt.imshow(np.sum(traj, axis = 1).transpose(), aspect='auto') # on somme sur u pour avoir (a, t)"
   ]
  },
  {
   "cell_type": "code",
   "execution_count": null,
   "metadata": {},
   "outputs": [],
   "source": []
  }
 ],
 "metadata": {
  "kernelspec": {
   "display_name": "Python 3",
   "language": "python",
   "name": "python3"
  },
  "language_info": {
   "codemirror_mode": {
    "name": "ipython",
    "version": 3
   },
   "file_extension": ".py",
   "mimetype": "text/x-python",
   "name": "python",
   "nbconvert_exporter": "python",
   "pygments_lexer": "ipython3",
   "version": "3.6.2"
  }
 },
 "nbformat": 4,
 "nbformat_minor": 2
}
